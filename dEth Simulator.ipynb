{
 "cells": [
  {
   "cell_type": "code",
   "execution_count": null,
   "metadata": {
    "dotnet_interactive": {
     "language": "fsharp"
    }
   },
   "outputs": [
    {
     "data": {
      "text/html": [
       "<div><div></div><div></div><div><strong>Installed Packages</strong><ul><li><span>FSharp.Data, 4.2.4</span></li><li><span>FSharp.Stats, 0.4.2</span></li><li><span>Plotly.NET.Interactive, 2.0.0-preview.8</span></li></ul></div></div>"
      ]
     },
     "metadata": {},
     "output_type": "display_data"
    }
   ],
   "source": [
    "#r \"nuget: FSharp.Data\"\n",
    "#r \"nuget: FSharp.Stats\"\n",
    "#r \"nuget: Plotly.NET.Interactive,  2.0.0-preview.8\"\n",
    "\n",
    "#load \"Parameters.fsx\"\n",
    "#load \"UnixTime.fsx\"\n",
    "#load \"AssetPrices.fsx\"\n",
    "#load \"Graph.fsx\"\n",
    "#load \"Drawdown.fsx\"\n",
    "#load \"dEth.fsx\"\n",
    "\n",
    "open FSharp.Data\n",
    "open FSharp.Stats\n",
    "\n",
    "open Plotly.NET\n",
    "\n",
    "open DEth\n",
    "open Graph\n",
    "\n",
    "open System.Collections.Generic\n",
    "\n",
    "drawChart\n",
    "    DEth.time\n",
    "    [\n",
    "        (\"Actual\", DEth.actualCollateral)\n",
    "        //(\"Predicted\", predictedCollateral |> List.map (fun x -> x.Value))\n",
    "        (\"Price Drawdown\", DEth.predictedDrawdowns)\n",
    "        (\"Collateral Drawdown\", DEth.vaultDrawdowns)\n",
    "    ]\n",
    "\n",
    "drawSurface xOpt yOpt zOpt\n"
   ]
  }
 ],
 "metadata": {
  "kernelspec": {
   "display_name": ".NET (F#)",
   "language": "F#",
   "name": ".net-fsharp"
  },
  "language_info": {
   "name": "F#"
  }
 },
 "nbformat": 4,
 "nbformat_minor": 2
}
