{
 "cells": [
  {
   "cell_type": "code",
   "execution_count": null,
   "metadata": {
    "dotnet_interactive": {
     "language": "fsharp"
    }
   },
   "outputs": [
    {
     "data": {
      "text/html": [
       "<div><div></div><div></div><div><strong>Installed Packages</strong><ul><li><span>FSharp.Data, 4.2.4</span></li><li><span>FSharp.Stats, 0.4.2</span></li><li><span>Plotly.NET.Interactive, 2.0.0-preview.8</span></li></ul></div></div>"
      ]
     },
     "metadata": {},
     "output_type": "display_data"
    },
    {
     "data": {
      "text/markdown": [
       "Loading extensions from `Plotly.NET.Interactive.dll`"
      ]
     },
     "metadata": {},
     "output_type": "display_data"
    },
    {
     "data": {
      "text/markdown": [
       "Added Kernel Extension including formatters for Plotly.NET charts."
      ]
     },
     "metadata": {},
     "output_type": "display_data"
    },
    {
     "name": "stdout",
     "output_type": "stream",
     "text": [
      "(\"now:\", 1635640129779L)\n",
      "1\n",
      "2\n",
      "3\n",
      "4\n",
      "({ Time = 1635516000000L\n",
      "   Collateral = 1390.437496\n",
      "   Debt = 3414350.369\n",
      "   Price = 4357.53\n",
      "   TargetRatio = 1.75\n",
      "   LowerRatio = 1.55\n",
      "   UpperRatio = 3.85\n",
      "   Rebalances = 9u }, 1.738096538)\n",
      "(\"now:\", 1635640173304L)\n",
      "Stopped due to error\n"
     ]
    },
    {
     "ename": "Error",
     "evalue": "input.fsx (18,25)-(18,29) typecheck error The value or constructor 'show' is not defined. Maybe you want one of the following:\n   Snow",
     "output_type": "error",
     "traceback": [
      "input.fsx (18,25)-(18,29) typecheck error The value or constructor 'show' is not defined. Maybe you want one of the following:\n",
      "   Snow"
     ]
    }
   ],
   "source": [
    "#r \"nuget: FSharp.Data\"\n",
    "#r \"nuget: FSharp.Stats\"\n",
    "#r \"nuget: Plotly.NET.Interactive,  2.0.0-preview.8\"\n",
    "\n",
    "#load \"Parameters.fsx\"\n",
    "#load \"UnixTime.fsx\"\n",
    "#load \"AssetPrices.fsx\"\n",
    "#load \"Graph.fsx\"\n",
    "#load \"Drawdown.fsx\"\n",
    "#load \"dEth.fsx\"\n",
    "\n",
    "open FSharp.Data\n",
    "open FSharp.Stats\n",
    "\n",
    "open Plotly.NET\n",
    "\n",
    "open DEth\n",
    "open Graph\n",
    "\n",
    "open System.Collections.Generic\n",
    "\n",
    "DEth.surfaceY.Length |> DEth.show\n",
    "\n",
    "[ \n",
    "    drawChart\n",
    "        DEth.time\n",
    "        [\n",
    "            (\"Actual\", DEth.actualCollateral)\n",
    "            //(\"Predicted\", predictedCollateral |> List.map (fun x -> x.Value))\n",
    "            (\"Price Drawdown\", DEth.predictedDrawdowns)\n",
    "            (\"Collateral Drawdown\", DEth.vaultDrawdowns)\n",
    "        ]\n",
    "\n",
    "        // drawMesh DEth.xOpt DEth.yOpt DEth.zOpt\n",
    "\n",
    "    ; drawSurface DEth.surfaceX DEth.surfaceY DEth.surfaceZ\n",
    "\n",
    "    ; drawLine\n",
    "        [0 .. 1 .. DEth.surfaceY.Length-1]\n",
    "        [\n",
    "            (\"Y\", DEth.surfaceY)\n",
    "            (\"X\", DEth.surfaceX)\n",
    "        ]\n",
    "]\n"
   ]
  }
 ],
 "metadata": {
  "kernelspec": {
   "display_name": ".NET (F#)",
   "language": "F#",
   "name": ".net-fsharp"
  },
  "language_info": {
   "name": "F#"
  }
 },
 "nbformat": 4,
 "nbformat_minor": 2
}
