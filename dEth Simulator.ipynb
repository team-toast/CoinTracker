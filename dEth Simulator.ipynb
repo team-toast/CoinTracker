{
 "cells": [
  {
   "cell_type": "code",
   "execution_count": null,
   "metadata": {
    "dotnet_interactive": {
     "language": "fsharp"
    }
   },
   "outputs": [
    {
     "data": {
      "text/html": [
       "<div><div></div><div></div><div><strong>Installed Packages</strong><ul><li><span>FSharp.Data, 4.2.4</span></li><li><span>FSharp.Stats, 0.4.2</span></li><li><span>Plotly.NET.Interactive, 2.0.0-preview.8</span></li></ul></div></div>"
      ]
     },
     "metadata": {},
     "output_type": "display_data"
    },
    {
     "ename": "Error",
     "evalue": "input.fsx (62,29)-(62,84) typecheck warning The field labels and expected type of this record expression or pattern do not uniquely determine a corresponding record type\ninput.fsx (96,19)-(96,25) typecheck error Type mismatch. Expecting a\n    'FSI_0483.Vault Microsoft.FSharp.Collections.list -> FSI_0481.AssetPrices.Candle -> FSI_0483.Vault Microsoft.FSharp.Collections.list'    \nbut given a\n    'FSI_0483.Vault Microsoft.FSharp.Collections.list -> FSI_0483.Candle -> FSI_0483.Vault Microsoft.FSharp.Collections.list'    \nThe type 'FSI_0481.AssetPrices.Candle' does not match the type 'FSI_0483.Candle'",
     "output_type": "error",
     "traceback": [
      "input.fsx (62,29)-(62,84) typecheck warning The field labels and expected type of this record expression or pattern do not uniquely determine a corresponding record type\n",
      "input.fsx (96,19)-(96,25) typecheck error Type mismatch. Expecting a\n",
      "    'FSI_0483.Vault Microsoft.FSharp.Collections.list -> FSI_0481.AssetPrices.Candle -> FSI_0483.Vault Microsoft.FSharp.Collections.list'    \n",
      "but given a\n",
      "    'FSI_0483.Vault Microsoft.FSharp.Collections.list -> FSI_0483.Candle -> FSI_0483.Vault Microsoft.FSharp.Collections.list'    \n",
      "The type 'FSI_0481.AssetPrices.Candle' does not match the type 'FSI_0483.Candle'"
     ]
    }
   ],
   "source": [
    "#r \"nuget: FSharp.Data\"\n",
    "// #r \"nuget: Microsoft.Data.Analysis\"\n",
    "#r \"nuget: FSharp.Stats\"\n",
    "#r \"nuget: Plotly.NET.Interactive,  2.0.0-preview.8\"\n",
    "#load \"UnixTime.fsx\"\n",
    "#load \"AssetPrices.fsx\"\n",
    "\n",
    "open UnixTime;\n",
    "open AssetPrices\n",
    "open FSharp.Data\n",
    "open FSharp.Stats\n",
    "open Plotly.NET\n",
    "\n",
    "let show a = printf \"%A\\n\" a\n",
    "\n",
    "type PriceStream = JsonProvider<\"https://api.binance.com/api/v3/klines?symbol=ETHUSDT&interval=1h\">\n",
    "\n",
    "type Candle = \n",
    "    { Time : int64\n",
    "    ; Open : decimal\n",
    "    ; High:  decimal\n",
    "    ; Low : decimal\n",
    "    ; Close: decimal }\n",
    "\n",
    "type PossiblyUndefined =\n",
    "    | Yeah of decimal\n",
    "    | Nah\n",
    "\n",
    "type Vault = \n",
    "    { Time : int64\n",
    "    ; Collateral : decimal\n",
    "    ; Debt : decimal\n",
    "    ; Price : decimal\n",
    "    ; TargetRatio : decimal\n",
    "    ; LowerRatio : decimal\n",
    "    ; UpperRatio : decimal\n",
    "    ; Rebalances : uint\n",
    "    } with\n",
    "    member this.CollateralValue = this.Collateral * this.Price\n",
    "    member this.ExcessCollateralValue = this.CollateralValue - this.Debt\n",
    "    member this.ExcessCollateral = (this.ExcessCollateralValue / this.Price)\n",
    "    member this.Ratio = \n",
    "        match this.Debt with\n",
    "        | 0M -> Nah\n",
    "        | _ -> Yeah(this.CollateralValue / this.Debt)\n",
    "    member this.TargetLeverage = 1M/(this.TargetRatio - 1M) + 1M\n",
    "    member this.ShouldRebalance = \n",
    "        match this.Ratio with\n",
    "        | Nah -> true\n",
    "        | Yeah ratio -> ratio < this.LowerRatio || ratio > this.UpperRatio\n",
    "\n",
    "\n",
    "let rebalance (vault:Vault) = \n",
    "    // todo : add fees (gas, exchange, defisaver, slippage)\n",
    "    let newCollateralValue = vault.ExcessCollateralValue * vault.TargetLeverage\n",
    "    let newCollateral = newCollateralValue / vault.Price\n",
    "    let collateralValueDiff = newCollateralValue - vault.CollateralValue\n",
    "    let newDebt = newCollateralValue * (vault.TargetLeverage - 1M) / vault.TargetLeverage\n",
    "    { vault with \n",
    "          Collateral = max newCollateral 0M\n",
    "        ; Debt = max newDebt 0M\n",
    "        ; Rebalances = vault.Rebalances + 1u\n",
    "    }\n",
    "\n",
    "let nextVault vault (candle:Candle) = \n",
    "    let preRebalanceVault = { vault with Time = candle.Time; Price = candle.Close }\n",
    "    if preRebalanceVault.ShouldRebalance then\n",
    "        rebalance preRebalanceVault \n",
    "    else\n",
    "        preRebalanceVault\n",
    "\n",
    "let create collateral time price targetRatio tollerance = \n",
    "    let init = \n",
    "        { Time = time\n",
    "        ; Collateral = collateral\n",
    "        ; Debt = 2000.0M\n",
    "        ; Price = price\n",
    "        ; TargetRatio = targetRatio\n",
    "        ; LowerRatio = targetRatio - tollerance\n",
    "        ; UpperRatio = targetRatio + tollerance\n",
    "        ; Rebalances = 0u\n",
    "        }\n",
    "    //rebalance init\n",
    "    init\n",
    "\n",
    "// makes a list of vaults over time that can be anylized\n",
    "let startingCollateral = 100M\n",
    "let targetRatio = 2M\n",
    "let range = 0.3M\n",
    "\n",
    "let update (vaults: Vault list) (candle: Candle) =\n",
    "    match vaults with\n",
    "    | [] -> [create 100M candle.Time candle.Close targetRatio range]\n",
    "    | head::tail -> \n",
    "        // printf \"%A\" head\n",
    "        [nextVault head candle] @ vaults\n",
    "\n",
    "let vaults = \n",
    "    ethPrices (toEpochTime 2013 7 30) now\n",
    "    |> Array.fold update []\n",
    "\n",
    "let last l = List.head l\n",
    "let first l = vaults.[vaults.Length - 1]\n",
    "\n",
    "let actual = (List.head vaults).ExcessCollateral / vaults.[vaults.Length - 1].ExcessCollateral\n",
    "let expected = (List.head vaults).Price / vaults.[vaults.Length - 1].Price\n",
    "let rebalances = (List.head vaults).Rebalances\n",
    "(actual, expected, actual / expected, rebalances)\n",
    "\n",
    "let time = vaults |> List.map (fun x -> x.Time |> toDateTime)\n",
    "let actualCollateral = vaults |> List.map (fun x -> x.ExcessCollateral)\n",
    "let predictedCollateral = \n",
    "    let firstPrice = (first vaults).Price\n",
    "    vaults |> List.map (fun x-> startingCollateral * x.Price / firstPrice) \n",
    "\n",
    "[\n",
    "        Chart.Line(time, actualCollateral)\n",
    "        |> Chart.withTraceName(Name=\"Actual\")\n",
    "        |> Chart.withLineStyle(Width=2.0, Dash=StyleParam.DrawingStyle.Solid)\n",
    "\n",
    "        Chart.Line(time, predictedCollateral)\n",
    "        |> Chart.withTraceName(Name=\"Predicted\")\n",
    "        |> Chart.withLineStyle(Width=2.0, Dash=StyleParam.DrawingStyle.Solid) \n",
    "] \n",
    "|> Chart.combine\n",
    "|> Chart.withXAxisStyle(\"Time\")\n",
    "|> Chart.withYAxisStyle(\"Collateral\")\n",
    "\n",
    "\n",
    "//List.head vaults\n",
    "\n",
    "//vaults |> List.take 10"
   ]
  },
  {
   "cell_type": "markdown",
   "metadata": {},
   "source": []
  },
  {
   "cell_type": "code",
   "execution_count": null,
   "metadata": {
    "dotnet_interactive": {
     "language": "fsharp"
    }
   },
   "outputs": [],
   "source": []
  },
  {
   "cell_type": "markdown",
   "metadata": {},
   "source": []
  },
  {
   "cell_type": "code",
   "execution_count": null,
   "metadata": {
    "dotnet_interactive": {
     "language": "fsharp"
    }
   },
   "outputs": [],
   "source": []
  }
 ],
 "metadata": {
  "kernelspec": {
   "display_name": ".NET (F#)",
   "language": "F#",
   "name": ".net-fsharp"
  },
  "language_info": {
   "name": "F#"
  }
 },
 "nbformat": 4,
 "nbformat_minor": 2
}
